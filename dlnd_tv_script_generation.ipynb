{
 "cells": [
  {
   "cell_type": "markdown",
   "metadata": {
    "deletable": true,
    "editable": true
   },
   "source": [
    "# TV Script Generation\n",
    "In this project, you'll generate your own [Simpsons](https://en.wikipedia.org/wiki/The_Simpsons) TV scripts using RNNs.  You'll be using part of the [Simpsons dataset](https://www.kaggle.com/wcukierski/the-simpsons-by-the-data) of scripts from 27 seasons.  The Neural Network you'll build will generate a new TV script for a scene at [Moe's Tavern](https://simpsonswiki.com/wiki/Moe's_Tavern).\n",
    "## Get the Data\n",
    "The data is already provided for you.  You'll be using a subset of the original dataset.  It consists of only the scenes in Moe's Tavern.  This doesn't include other versions of the tavern, like \"Moe's Cavern\", \"Flaming Moe's\", \"Uncle Moe's Family Feed-Bag\", etc.."
   ]
  },
  {
   "cell_type": "code",
   "execution_count": 72,
   "metadata": {
    "collapsed": false,
    "deletable": true,
    "editable": true
   },
   "outputs": [],
   "source": [
    "\"\"\"\n",
    "DON'T MODIFY ANYTHING IN THIS CELL\n",
    "\"\"\"\n",
    "import helper\n",
    "\n",
    "data_dir = './data/simpsons/moes_tavern_lines.txt'\n",
    "text = helper.load_data(data_dir)\n",
    "# Ignore notice, since we don't use it for analysing the data\n",
    "text = text[81:]"
   ]
  },
  {
   "cell_type": "markdown",
   "metadata": {
    "deletable": true,
    "editable": true
   },
   "source": [
    "## Explore the Data\n",
    "Play around with `view_sentence_range` to view different parts of the data."
   ]
  },
  {
   "cell_type": "code",
   "execution_count": 73,
   "metadata": {
    "collapsed": false,
    "deletable": true,
    "editable": true
   },
   "outputs": [
    {
     "name": "stdout",
     "output_type": "stream",
     "text": [
      "Dataset Stats\n",
      "Roughly the number of unique words: 11492\n",
      "Number of scenes: 262\n",
      "Average number of sentences in each scene: 15.248091603053435\n",
      "Number of lines: 4257\n",
      "Average number of words in each line: 11.50434578341555\n",
      "\n",
      "The sentences 0 to 10:\n",
      "Moe_Szyslak: (INTO PHONE) Moe's Tavern. Where the elite meet to drink.\n",
      "Bart_Simpson: Eh, yeah, hello, is Mike there? Last name, Rotch.\n",
      "Moe_Szyslak: (INTO PHONE) Hold on, I'll check. (TO BARFLIES) Mike Rotch. Mike Rotch. Hey, has anybody seen Mike Rotch, lately?\n",
      "Moe_Szyslak: (INTO PHONE) Listen you little puke. One of these days I'm gonna catch you, and I'm gonna carve my name on your back with an ice pick.\n",
      "Moe_Szyslak: What's the matter Homer? You're not your normal effervescent self.\n",
      "Homer_Simpson: I got my problems, Moe. Give me another one.\n",
      "Moe_Szyslak: Homer, hey, you should not drink to forget your problems.\n",
      "Barney_Gumble: Yeah, you should only drink to enhance your social skills.\n",
      "\n",
      "\n"
     ]
    }
   ],
   "source": [
    "view_sentence_range = (0, 10)\n",
    "\n",
    "\"\"\"\n",
    "DON'T MODIFY ANYTHING IN THIS CELL\n",
    "\"\"\"\n",
    "import numpy as np\n",
    "\n",
    "print('Dataset Stats')\n",
    "print('Roughly the number of unique words: {}'.format(len({word: None for word in text.split()})))\n",
    "scenes = text.split('\\n\\n')\n",
    "print('Number of scenes: {}'.format(len(scenes)))\n",
    "sentence_count_scene = [scene.count('\\n') for scene in scenes]\n",
    "print('Average number of sentences in each scene: {}'.format(np.average(sentence_count_scene)))\n",
    "\n",
    "sentences = [sentence for scene in scenes for sentence in scene.split('\\n')]\n",
    "print('Number of lines: {}'.format(len(sentences)))\n",
    "word_count_sentence = [len(sentence.split()) for sentence in sentences]\n",
    "print('Average number of words in each line: {}'.format(np.average(word_count_sentence)))\n",
    "\n",
    "print()\n",
    "print('The sentences {} to {}:'.format(*view_sentence_range))\n",
    "print('\\n'.join(text.split('\\n')[view_sentence_range[0]:view_sentence_range[1]]))"
   ]
  },
  {
   "cell_type": "markdown",
   "metadata": {
    "deletable": true,
    "editable": true
   },
   "source": [
    "## Implement Preprocessing Functions\n",
    "The first thing to do to any dataset is preprocessing.  Implement the following preprocessing functions below:\n",
    "- Lookup Table\n",
    "- Tokenize Punctuation\n",
    "\n",
    "### Lookup Table\n",
    "To create a word embedding, you first need to transform the words to ids.  In this function, create two dictionaries:\n",
    "- Dictionary to go from the words to an id, we'll call `vocab_to_int`\n",
    "- Dictionary to go from the id to word, we'll call `int_to_vocab`\n",
    "\n",
    "Return these dictionaries in the following tuple `(vocab_to_int, int_to_vocab)`"
   ]
  },
  {
   "cell_type": "code",
   "execution_count": 74,
   "metadata": {
    "collapsed": false,
    "deletable": true,
    "editable": true
   },
   "outputs": [
    {
     "name": "stdout",
     "output_type": "stream",
     "text": [
      "Tests Passed\n"
     ]
    }
   ],
   "source": [
    "import numpy as np\n",
    "import problem_unittests as tests\n",
    "from collections import Counter\n",
    "\n",
    "def create_lookup_tables(text):\n",
    "    \"\"\"\n",
    "    Create lookup tables for vocabulary\n",
    "    :param text: The text of tv scripts split into words\n",
    "    :return: A tuple of dicts (vocab_to_int, int_to_vocab)\n",
    "    \"\"\"\n",
    "    # TODO: Implement Function\n",
    "    #print (type(text))\n",
    "    counts = Counter(text)\n",
    "    #vocab = sorted(counts, key=counts.get, reverse=True)\n",
    "    vocab = counts\n",
    "    vocab_to_int, int_to_vocab = {} , {}\n",
    "    #print(vocab[:10])\n",
    "    for ii, word in enumerate(vocab):\n",
    "        vocab_to_int[word] = ii\n",
    "        int_to_vocab[ii] = word\n",
    "    \n",
    "    return (vocab_to_int, int_to_vocab)\n",
    "\n",
    "\"\"\"\n",
    "DON'T MODIFY ANYTHING IN THIS CELL THAT IS BELOW THIS LINE\n",
    "\"\"\"\n",
    "tests.test_create_lookup_tables(create_lookup_tables)"
   ]
  },
  {
   "cell_type": "markdown",
   "metadata": {
    "deletable": true,
    "editable": true
   },
   "source": [
    "### Tokenize Punctuation\n",
    "We'll be splitting the script into a word array using spaces as delimiters.  However, punctuations like periods and exclamation marks make it hard for the neural network to distinguish between the word \"bye\" and \"bye!\".\n",
    "\n",
    "Implement the function `token_lookup` to return a dict that will be used to tokenize symbols like \"!\" into \"||Exclamation_Mark||\".  Create a dictionary for the following symbols where the symbol is the key and value is the token:\n",
    "- Period ( . )\n",
    "- Comma ( , )\n",
    "- Quotation Mark ( \" )\n",
    "- Semicolon ( ; )\n",
    "- Exclamation mark ( ! )\n",
    "- Question mark ( ? )\n",
    "- Left Parentheses ( ( )\n",
    "- Right Parentheses ( ) )\n",
    "- Dash ( -- )\n",
    "- Return ( \\n )\n",
    "\n",
    "This dictionary will be used to token the symbols and add the delimiter (space) around it.  This separates the symbols as it's own word, making it easier for the neural network to predict on the next word. Make sure you don't use a token that could be confused as a word. Instead of using the token \"dash\", try using something like \"||dash||\"."
   ]
  },
  {
   "cell_type": "code",
   "execution_count": 75,
   "metadata": {
    "collapsed": false,
    "deletable": true,
    "editable": true
   },
   "outputs": [
    {
     "name": "stdout",
     "output_type": "stream",
     "text": [
      "Tests Passed\n"
     ]
    }
   ],
   "source": [
    "def token_lookup():\n",
    "    \"\"\"\n",
    "    Generate a dict to turn punctuation into a token.\n",
    "    :return: Tokenize dictionary where the key is the punctuation and the value is the token\n",
    "    \"\"\"\n",
    "    # TODO: Implement Function\n",
    "    token_d = {}\n",
    "    token_d['.'] = '||Period||'\n",
    "    token_d[','] = '||Comma||'\n",
    "    token_d['\"'] = '||Quotation_Mark||'\n",
    "    token_d[';'] = '||Semicolon||'\n",
    "    token_d['!'] = '||Exclamation_mark||'\n",
    "    token_d['?'] = '||Question_mark||'\n",
    "    token_d['('] = '||Left_Parentheses||'\n",
    "    token_d[')'] = '||Right_Parentheses||'\n",
    "    token_d['--'] = '||Dash||'\n",
    "    token_d['\\n'] = '||Return||'\n",
    "    return token_d\n",
    "\n",
    "\"\"\"\n",
    "DON'T MODIFY ANYTHING IN THIS CELL THAT IS BELOW THIS LINE\n",
    "\"\"\"\n",
    "tests.test_tokenize(token_lookup)"
   ]
  },
  {
   "cell_type": "markdown",
   "metadata": {
    "deletable": true,
    "editable": true
   },
   "source": [
    "## Preprocess all the data and save it\n",
    "Running the code cell below will preprocess all the data and save it to file."
   ]
  },
  {
   "cell_type": "code",
   "execution_count": 76,
   "metadata": {
    "collapsed": false,
    "deletable": true,
    "editable": true
   },
   "outputs": [],
   "source": [
    "\"\"\"\n",
    "DON'T MODIFY ANYTHING IN THIS CELL\n",
    "\"\"\"\n",
    "# Preprocess Training, Validation, and Testing Data\n",
    "helper.preprocess_and_save_data(data_dir, token_lookup, create_lookup_tables)"
   ]
  },
  {
   "cell_type": "markdown",
   "metadata": {
    "deletable": true,
    "editable": true
   },
   "source": [
    "# Check Point\n",
    "This is your first checkpoint. If you ever decide to come back to this notebook or have to restart the notebook, you can start from here. The preprocessed data has been saved to disk."
   ]
  },
  {
   "cell_type": "code",
   "execution_count": 77,
   "metadata": {
    "collapsed": false,
    "deletable": true,
    "editable": true
   },
   "outputs": [],
   "source": [
    "\"\"\"\n",
    "DON'T MODIFY ANYTHING IN THIS CELL\n",
    "\"\"\"\n",
    "import helper\n",
    "import numpy as np\n",
    "import problem_unittests as tests\n",
    "\n",
    "int_text, vocab_to_int, int_to_vocab, token_dict = helper.load_preprocess()"
   ]
  },
  {
   "cell_type": "markdown",
   "metadata": {
    "deletable": true,
    "editable": true
   },
   "source": [
    "## Build the Neural Network\n",
    "You'll build the components necessary to build a RNN by implementing the following functions below:\n",
    "- get_inputs\n",
    "- get_init_cell\n",
    "- get_embed\n",
    "- build_rnn\n",
    "- build_nn\n",
    "- get_batches\n",
    "\n",
    "### Check the Version of TensorFlow and Access to GPU"
   ]
  },
  {
   "cell_type": "code",
   "execution_count": 78,
   "metadata": {
    "collapsed": false
   },
   "outputs": [
    {
     "name": "stdout",
     "output_type": "stream",
     "text": [
      "TensorFlow Version: 1.0.0\n"
     ]
    },
    {
     "name": "stderr",
     "output_type": "stream",
     "text": [
      "/Users/kaidizhou/anaconda3/envs/tflearn/lib/python3.5/site-packages/ipykernel/__main__.py:14: UserWarning: No GPU found. Please use a GPU to train your neural network.\n"
     ]
    }
   ],
   "source": [
    "\"\"\"\n",
    "DON'T MODIFY ANYTHING IN THIS CELL\n",
    "\"\"\"\n",
    "from distutils.version import LooseVersion\n",
    "import warnings\n",
    "import tensorflow as tf\n",
    "\n",
    "# Check TensorFlow Version\n",
    "assert LooseVersion(tf.__version__) >= LooseVersion('1.0'), 'Please use TensorFlow version 1.0 or newer'\n",
    "print('TensorFlow Version: {}'.format(tf.__version__))\n",
    "\n",
    "# Check for a GPU\n",
    "if not tf.test.gpu_device_name():\n",
    "    warnings.warn('No GPU found. Please use a GPU to train your neural network.')\n",
    "else:\n",
    "    print('Default GPU Device: {}'.format(tf.test.gpu_device_name()))"
   ]
  },
  {
   "cell_type": "markdown",
   "metadata": {},
   "source": [
    "### Input\n",
    "Implement the `get_inputs()` function to create TF Placeholders for the Neural Network.  It should create the following placeholders:\n",
    "- Input text placeholder named \"input\" using the [TF Placeholder](https://www.tensorflow.org/api_docs/python/tf/placeholder) `name` parameter.\n",
    "- Targets placeholder\n",
    "- Learning Rate placeholder\n",
    "\n",
    "Return the placeholders in the following the tuple `(Input, Targets, LearingRate)`"
   ]
  },
  {
   "cell_type": "code",
   "execution_count": 79,
   "metadata": {
    "collapsed": false,
    "deletable": true,
    "editable": true
   },
   "outputs": [
    {
     "name": "stdout",
     "output_type": "stream",
     "text": [
      "Tests Passed\n"
     ]
    }
   ],
   "source": [
    "def get_inputs():\n",
    "    \"\"\"\n",
    "    Create TF Placeholders for input, targets, and learning rate.\n",
    "    :return: Tuple (input, targets, learning rate)\n",
    "    \"\"\"\n",
    "    # TODO: Implement Function\n",
    "    input = tf.placeholder(tf.int32, [None, None], name='input')\n",
    "    targets = tf.placeholder(tf.int32, [None, None], name='targets')\n",
    "    learning_rate = tf.placeholder(tf.float32, name='learning_rate')\n",
    "    return (input, targets, learning_rate)\n",
    "\n",
    "\n",
    "\"\"\"\n",
    "DON'T MODIFY ANYTHING IN THIS CELL THAT IS BELOW THIS LINE\n",
    "\"\"\"\n",
    "tests.test_get_inputs(get_inputs)"
   ]
  },
  {
   "cell_type": "markdown",
   "metadata": {
    "deletable": true,
    "editable": true
   },
   "source": [
    "### Build RNN Cell and Initialize\n",
    "Stack one or more [`BasicLSTMCells`](https://www.tensorflow.org/api_docs/python/tf/contrib/rnn/BasicLSTMCell) in a [`MultiRNNCell`](https://www.tensorflow.org/api_docs/python/tf/contrib/rnn/MultiRNNCell).\n",
    "- The Rnn size should be set using `rnn_size`\n",
    "- Initalize Cell State using the MultiRNNCell's [`zero_state()`](https://www.tensorflow.org/api_docs/python/tf/contrib/rnn/MultiRNNCell#zero_state) function\n",
    "    - Apply the name \"initial_state\" to the initial state using [`tf.identity()`](https://www.tensorflow.org/api_docs/python/tf/identity)\n",
    "\n",
    "Return the cell and initial state in the following tuple `(Cell, InitialState)`"
   ]
  },
  {
   "cell_type": "code",
   "execution_count": 80,
   "metadata": {
    "collapsed": false,
    "deletable": true,
    "editable": true
   },
   "outputs": [
    {
     "name": "stdout",
     "output_type": "stream",
     "text": [
      "Tests Passed\n"
     ]
    }
   ],
   "source": [
    "def get_init_cell(batch_size, rnn_size):\n",
    "    \"\"\"\n",
    "    Create an RNN Cell and initialize it.\n",
    "    :param batch_size: Size of batches\n",
    "    :param rnn_size: Size of RNNs\n",
    "    :return: Tuple (cell, initialize state)\n",
    "    \"\"\"\n",
    "    # TODO: Implement Function\n",
    "    # Your basic LSTM cell\n",
    "    lstm = tf.contrib.rnn.BasicLSTMCell(rnn_size)\n",
    "    \n",
    "    # Add dropout to the cell\n",
    "    drop = tf.contrib.rnn.DropoutWrapper(lstm)\n",
    "    \n",
    "    # Stack up multiple LSTM layers, for deep learning\n",
    "    cell = tf.contrib.rnn.MultiRNNCell([drop])\n",
    "    \n",
    "    # Getting an initial state of all zeros\n",
    "    initial_state = cell.zero_state(batch_size, tf.float32)\n",
    "    initial_state = tf.identity(initial_state, name='initial_state')\n",
    "    return (cell, initial_state)\n",
    "\n",
    "\n",
    "\"\"\"\n",
    "DON'T MODIFY ANYTHING IN THIS CELL THAT IS BELOW THIS LINE\n",
    "\"\"\"\n",
    "tests.test_get_init_cell(get_init_cell)"
   ]
  },
  {
   "cell_type": "markdown",
   "metadata": {
    "deletable": true,
    "editable": true
   },
   "source": [
    "### Word Embedding\n",
    "Apply embedding to `input_data` using TensorFlow.  Return the embedded sequence."
   ]
  },
  {
   "cell_type": "code",
   "execution_count": 81,
   "metadata": {
    "collapsed": false,
    "deletable": true,
    "editable": true
   },
   "outputs": [
    {
     "name": "stdout",
     "output_type": "stream",
     "text": [
      "Tests Passed\n"
     ]
    }
   ],
   "source": [
    "def get_embed(input_data, vocab_size, embed_dim):\n",
    "    \"\"\"\n",
    "    Create embedding for <input_data>.\n",
    "    :param input_data: TF placeholder for text input.\n",
    "    :param vocab_size: Number of words in vocabulary.\n",
    "    :param embed_dim: Number of embedding dimensions\n",
    "    :return: Embedded input.\n",
    "    \"\"\"\n",
    "    # TODO: Implement Function\n",
    "    embedding = tf.Variable(tf.random_uniform((vocab_size, embed_dim), -1, 1))\n",
    "    embed = tf.nn.embedding_lookup(embedding, input_data)\n",
    "    return embed\n",
    "\n",
    "\"\"\"\n",
    "DON'T MODIFY ANYTHING IN THIS CELL THAT IS BELOW THIS LINE\n",
    "\"\"\"\n",
    "tests.test_get_embed(get_embed)"
   ]
  },
  {
   "cell_type": "markdown",
   "metadata": {
    "deletable": true,
    "editable": true
   },
   "source": [
    "### Build RNN\n",
    "You created a RNN Cell in the `get_init_cell()` function.  Time to use the cell to create a RNN.\n",
    "- Build the RNN using the [`tf.nn.dynamic_rnn()`](https://www.tensorflow.org/api_docs/python/tf/nn/dynamic_rnn)\n",
    " - Apply the name \"final_state\" to the final state using [`tf.identity()`](https://www.tensorflow.org/api_docs/python/tf/identity)\n",
    "\n",
    "Return the outputs and final_state state in the following tuple `(Outputs, FinalState)` "
   ]
  },
  {
   "cell_type": "code",
   "execution_count": 82,
   "metadata": {
    "collapsed": false,
    "deletable": true,
    "editable": true
   },
   "outputs": [
    {
     "name": "stdout",
     "output_type": "stream",
     "text": [
      "Tests Passed\n"
     ]
    }
   ],
   "source": [
    "def build_rnn(cell, inputs):\n",
    "    \"\"\"\n",
    "    Create a RNN using a RNN Cell\n",
    "    :param cell: RNN Cell\n",
    "    :param inputs: Input text data\n",
    "    :return: Tuple (Outputs, Final State)\n",
    "    \"\"\"\n",
    "    # TODO: Implement Function\n",
    "    outputs, final_state = tf.nn.dynamic_rnn(cell, inputs, dtype = tf.float32)\n",
    "    final_state = tf.identity(final_state, name='final_state')\n",
    "    return (outputs, final_state)\n",
    "\n",
    "\n",
    "\"\"\"\n",
    "DON'T MODIFY ANYTHING IN THIS CELL THAT IS BELOW THIS LINE\n",
    "\"\"\"\n",
    "tests.test_build_rnn(build_rnn)"
   ]
  },
  {
   "cell_type": "markdown",
   "metadata": {
    "deletable": true,
    "editable": true
   },
   "source": [
    "### Build the Neural Network\n",
    "Apply the functions you implemented above to:\n",
    "- Apply embedding to `input_data` using your `get_embed(input_data, vocab_size, embed_dim)` function.\n",
    "- Build RNN using `cell` and your `build_rnn(cell, inputs)` function.\n",
    "- Apply a fully connected layer with a linear activation and `vocab_size` as the number of outputs.\n",
    "\n",
    "Return the logits and final state in the following tuple (Logits, FinalState) "
   ]
  },
  {
   "cell_type": "code",
   "execution_count": 83,
   "metadata": {
    "collapsed": false,
    "deletable": true,
    "editable": true
   },
   "outputs": [
    {
     "name": "stdout",
     "output_type": "stream",
     "text": [
      "Tests Passed\n"
     ]
    }
   ],
   "source": [
    "def build_nn(cell, rnn_size, input_data, vocab_size):\n",
    "    \"\"\"\n",
    "    Build part of the neural network\n",
    "    :param cell: RNN cell\n",
    "    :param rnn_size: Size of rnns\n",
    "    :param input_data: Input data\n",
    "    :param vocab_size: Vocabulary size\n",
    "    :return: Tuple (Logits, FinalState)\n",
    "    \"\"\"\n",
    "    # TODO: Implement Function\n",
    "    embed = get_embed(input_data, vocab_size, rnn_size)\n",
    "    output, final_state = build_rnn(cell, embed)\n",
    "    logits = tf.contrib.layers.fully_connected(output, vocab_size, activation_fn=tf.sigmoid)\n",
    "    return (logits, final_state)\n",
    "\n",
    "\"\"\"\n",
    "DON'T MODIFY ANYTHING IN THIS CELL THAT IS BELOW THIS LINE\n",
    "\"\"\"\n",
    "tests.test_build_nn(build_nn)"
   ]
  },
  {
   "cell_type": "markdown",
   "metadata": {
    "deletable": true,
    "editable": true
   },
   "source": [
    "### Batches\n",
    "Implement `get_batches` to create batches of input and targets using `int_text`.  The batches should be a Numpy array with the shape `(number of batches, 2, batch size, sequence length)`. Each batch contains two elements:\n",
    "- The first element is a single batch of **input** with the shape `[batch size, sequence length]`\n",
    "- The second element is a single batch of **targets** with the shape `[batch size, sequence length]`\n",
    "\n",
    "If you can't fill the last batch with enough data, drop the last batch.\n",
    "\n",
    "For exmple, `get_batches([1, 2, 3, 4, 5, 6, 7, 8, 9, 10, 11, 12, 13, 14, 15], 2, 3)` would return a Numpy array of the following:\n",
    "```\n",
    "[\n",
    "  # First Batch\n",
    "  [\n",
    "    # Batch of Input\n",
    "    [[ 1  2  3], [ 7  8  9]],\n",
    "    # Batch of targets\n",
    "    [[ 2  3  4], [ 8  9 10]]\n",
    "  ],\n",
    " \n",
    "  # Second Batch\n",
    "  [\n",
    "    # Batch of Input\n",
    "    [[ 4  5  6], [10 11 12]],\n",
    "    # Batch of targets\n",
    "    [[ 5  6  7], [11 12 13]]\n",
    "  ]\n",
    "]\n",
    "```"
   ]
  },
  {
   "cell_type": "code",
   "execution_count": 84,
   "metadata": {
    "collapsed": false,
    "deletable": true,
    "editable": true
   },
   "outputs": [
    {
     "name": "stdout",
     "output_type": "stream",
     "text": [
      "Tests Passed\n"
     ]
    }
   ],
   "source": [
    "def get_batches(int_text, batch_size, seq_length):\n",
    "    \"\"\"\n",
    "    Return batches of input and target\n",
    "    :param int_text: Text with the words replaced by their ids\n",
    "    :param batch_size: The size of batch\n",
    "    :param seq_length: The length of sequence\n",
    "    :return: Batches as a Numpy array\n",
    "    \"\"\"\n",
    "    # TODO: Implement Function\n",
    "    n_batches = len(int_text)//(batch_size*seq_length)\n",
    "    int_text = int_text[:n_batches*batch_size*seq_length+1]\n",
    "    res = []\n",
    "    batch_point = 0\n",
    "    for ii in range(n_batches):\n",
    "        res.append([[],[]])\n",
    "\n",
    "    for ii in range(0, len(int_text) - 1, seq_length):\n",
    "        input = int_text[ii:ii+seq_length]#input\n",
    "        target = int_text[ii+1:ii+1+seq_length]#target\n",
    "        res[batch_point][0].append(input)\n",
    "        res[batch_point][1].append(target)\n",
    "        batch_point += 1\n",
    "        if batch_point == n_batches:\n",
    "            batch_point = 0\n",
    "        \n",
    "    return np.array(res)\n",
    "\n",
    "\"\"\"\n",
    "DON'T MODIFY ANYTHING IN THIS CELL THAT IS BELOW THIS LINE\n",
    "\"\"\"\n",
    "tests.test_get_batches(get_batches)"
   ]
  },
  {
   "cell_type": "markdown",
   "metadata": {
    "deletable": true,
    "editable": true
   },
   "source": [
    "## Neural Network Training\n",
    "### Hyperparameters\n",
    "Tune the following parameters:\n",
    "\n",
    "- Set `num_epochs` to the number of epochs.\n",
    "- Set `batch_size` to the batch size.\n",
    "- Set `rnn_size` to the size of the RNNs.\n",
    "- Set `seq_length` to the length of sequence.\n",
    "- Set `learning_rate` to the learning rate.\n",
    "- Set `show_every_n_batches` to the number of batches the neural network should print progress."
   ]
  },
  {
   "cell_type": "code",
   "execution_count": 88,
   "metadata": {
    "collapsed": true,
    "deletable": true,
    "editable": true
   },
   "outputs": [],
   "source": [
    "# Number of Epochs\n",
    "num_epochs = 20\n",
    "# Batch Size\n",
    "batch_size = 200\n",
    "# RNN Size\n",
    "rnn_size = 256\n",
    "# Sequence Length\n",
    "seq_length = 5\n",
    "# Learning Rate\n",
    "learning_rate = 0.01\n",
    "# Show stats for every n number of batches\n",
    "show_every_n_batches = 5\n",
    "\n",
    "\"\"\"\n",
    "DON'T MODIFY ANYTHING IN THIS CELL THAT IS BELOW THIS LINE\n",
    "\"\"\"\n",
    "save_dir = './save'"
   ]
  },
  {
   "cell_type": "markdown",
   "metadata": {
    "deletable": true,
    "editable": true
   },
   "source": [
    "### Build the Graph\n",
    "Build the graph using the neural network you implemented."
   ]
  },
  {
   "cell_type": "code",
   "execution_count": 89,
   "metadata": {
    "collapsed": false,
    "deletable": true,
    "editable": true
   },
   "outputs": [],
   "source": [
    "\"\"\"\n",
    "DON'T MODIFY ANYTHING IN THIS CELL\n",
    "\"\"\"\n",
    "from tensorflow.contrib import seq2seq\n",
    "\n",
    "train_graph = tf.Graph()\n",
    "with train_graph.as_default():\n",
    "    vocab_size = len(int_to_vocab)\n",
    "    input_text, targets, lr = get_inputs()\n",
    "    input_data_shape = tf.shape(input_text)\n",
    "    cell, initial_state = get_init_cell(input_data_shape[0], rnn_size)\n",
    "    logits, final_state = build_nn(cell, rnn_size, input_text, vocab_size)\n",
    "\n",
    "    # Probabilities for generating words\n",
    "    probs = tf.nn.softmax(logits, name='probs')\n",
    "\n",
    "    # Loss function\n",
    "    cost = seq2seq.sequence_loss(\n",
    "        logits,\n",
    "        targets,\n",
    "        tf.ones([input_data_shape[0], input_data_shape[1]]))\n",
    "\n",
    "    # Optimizer\n",
    "    optimizer = tf.train.AdamOptimizer(lr)\n",
    "\n",
    "    # Gradient Clipping\n",
    "    gradients = optimizer.compute_gradients(cost)\n",
    "    capped_gradients = [(tf.clip_by_value(grad, -1., 1.), var) for grad, var in gradients]\n",
    "    train_op = optimizer.apply_gradients(capped_gradients)"
   ]
  },
  {
   "cell_type": "markdown",
   "metadata": {
    "deletable": true,
    "editable": true
   },
   "source": [
    "## Train\n",
    "Train the neural network on the preprocessed data.  If you have a hard time getting a good loss, check the [forms](https://discussions.udacity.com/) to see if anyone is having the same problem."
   ]
  },
  {
   "cell_type": "code",
   "execution_count": 90,
   "metadata": {
    "collapsed": false,
    "deletable": true,
    "editable": true
   },
   "outputs": [
    {
     "name": "stdout",
     "output_type": "stream",
     "text": [
      "Epoch   0 Batch    0/69   train_loss = 8.822\n",
      "Epoch   0 Batch    5/69   train_loss = 8.291\n",
      "Epoch   0 Batch   10/69   train_loss = 8.194\n",
      "Epoch   0 Batch   15/69   train_loss = 8.135\n",
      "Epoch   0 Batch   20/69   train_loss = 8.167\n",
      "Epoch   0 Batch   25/69   train_loss = 8.154\n",
      "Epoch   0 Batch   30/69   train_loss = 8.169\n",
      "Epoch   0 Batch   35/69   train_loss = 8.159\n",
      "Epoch   0 Batch   40/69   train_loss = 8.151\n",
      "Epoch   0 Batch   45/69   train_loss = 8.140\n",
      "Epoch   0 Batch   50/69   train_loss = 8.158\n",
      "Epoch   0 Batch   55/69   train_loss = 8.134\n",
      "Epoch   0 Batch   60/69   train_loss = 8.147\n",
      "Epoch   0 Batch   65/69   train_loss = 8.138\n",
      "Epoch   1 Batch    1/69   train_loss = 8.111\n",
      "Epoch   1 Batch    6/69   train_loss = 8.108\n",
      "Epoch   1 Batch   11/69   train_loss = 8.118\n",
      "Epoch   1 Batch   16/69   train_loss = 8.106\n",
      "Epoch   1 Batch   21/69   train_loss = 8.142\n",
      "Epoch   1 Batch   26/69   train_loss = 8.151\n",
      "Epoch   1 Batch   31/69   train_loss = 8.131\n",
      "Epoch   1 Batch   36/69   train_loss = 8.112\n",
      "Epoch   1 Batch   41/69   train_loss = 8.137\n",
      "Epoch   1 Batch   46/69   train_loss = 8.100\n",
      "Epoch   1 Batch   51/69   train_loss = 8.134\n",
      "Epoch   1 Batch   56/69   train_loss = 8.120\n",
      "Epoch   1 Batch   61/69   train_loss = 8.109\n",
      "Epoch   1 Batch   66/69   train_loss = 8.136\n",
      "Epoch   2 Batch    2/69   train_loss = 8.088\n",
      "Epoch   2 Batch    7/69   train_loss = 8.099\n",
      "Epoch   2 Batch   12/69   train_loss = 8.107\n",
      "Epoch   2 Batch   17/69   train_loss = 8.125\n",
      "Epoch   2 Batch   22/69   train_loss = 8.140\n",
      "Epoch   2 Batch   27/69   train_loss = 8.135\n",
      "Epoch   2 Batch   32/69   train_loss = 8.108\n",
      "Epoch   2 Batch   37/69   train_loss = 8.114\n",
      "Epoch   2 Batch   42/69   train_loss = 8.124\n",
      "Epoch   2 Batch   47/69   train_loss = 8.134\n",
      "Epoch   2 Batch   52/69   train_loss = 8.136\n",
      "Epoch   2 Batch   57/69   train_loss = 8.122\n",
      "Epoch   2 Batch   62/69   train_loss = 8.111\n",
      "Epoch   2 Batch   67/69   train_loss = 8.117\n",
      "Epoch   3 Batch    3/69   train_loss = 8.110\n",
      "Epoch   3 Batch    8/69   train_loss = 8.081\n",
      "Epoch   3 Batch   13/69   train_loss = 8.121\n",
      "Epoch   3 Batch   18/69   train_loss = 8.141\n",
      "Epoch   3 Batch   23/69   train_loss = 8.111\n",
      "Epoch   3 Batch   28/69   train_loss = 8.122\n",
      "Epoch   3 Batch   33/69   train_loss = 8.128\n",
      "Epoch   3 Batch   38/69   train_loss = 8.122\n",
      "Epoch   3 Batch   43/69   train_loss = 8.118\n",
      "Epoch   3 Batch   48/69   train_loss = 8.124\n",
      "Epoch   3 Batch   53/69   train_loss = 8.130\n",
      "Epoch   3 Batch   58/69   train_loss = 8.106\n",
      "Epoch   3 Batch   63/69   train_loss = 8.133\n",
      "Epoch   3 Batch   68/69   train_loss = 8.099\n",
      "Epoch   4 Batch    4/69   train_loss = 8.085\n",
      "Epoch   4 Batch    9/69   train_loss = 8.095\n",
      "Epoch   4 Batch   14/69   train_loss = 8.093\n",
      "Epoch   4 Batch   19/69   train_loss = 8.095\n",
      "Epoch   4 Batch   24/69   train_loss = 8.107\n",
      "Epoch   4 Batch   29/69   train_loss = 8.079\n",
      "Epoch   4 Batch   34/69   train_loss = 8.104\n",
      "Epoch   4 Batch   39/69   train_loss = 8.103\n",
      "Epoch   4 Batch   44/69   train_loss = 8.108\n",
      "Epoch   4 Batch   49/69   train_loss = 8.086\n",
      "Epoch   4 Batch   54/69   train_loss = 8.080\n",
      "Epoch   4 Batch   59/69   train_loss = 8.085\n",
      "Epoch   4 Batch   64/69   train_loss = 8.085\n",
      "Epoch   5 Batch    0/69   train_loss = 8.071\n",
      "Epoch   5 Batch    5/69   train_loss = 8.052\n",
      "Epoch   5 Batch   10/69   train_loss = 8.066\n",
      "Epoch   5 Batch   15/69   train_loss = 8.065\n",
      "Epoch   5 Batch   20/69   train_loss = 8.080\n",
      "Epoch   5 Batch   25/69   train_loss = 8.069\n",
      "Epoch   5 Batch   30/69   train_loss = 8.085\n",
      "Epoch   5 Batch   35/69   train_loss = 8.084\n",
      "Epoch   5 Batch   40/69   train_loss = 8.064\n",
      "Epoch   5 Batch   45/69   train_loss = 8.065\n",
      "Epoch   5 Batch   50/69   train_loss = 8.083\n",
      "Epoch   5 Batch   55/69   train_loss = 8.054\n",
      "Epoch   5 Batch   60/69   train_loss = 8.075\n",
      "Epoch   5 Batch   65/69   train_loss = 8.066\n",
      "Epoch   6 Batch    1/69   train_loss = 8.017\n",
      "Epoch   6 Batch    6/69   train_loss = 8.006\n",
      "Epoch   6 Batch   11/69   train_loss = 8.042\n",
      "Epoch   6 Batch   16/69   train_loss = 8.029\n",
      "Epoch   6 Batch   21/69   train_loss = 8.065\n",
      "Epoch   6 Batch   26/69   train_loss = 8.064\n",
      "Epoch   6 Batch   31/69   train_loss = 8.048\n",
      "Epoch   6 Batch   36/69   train_loss = 8.028\n",
      "Epoch   6 Batch   41/69   train_loss = 8.045\n",
      "Epoch   6 Batch   46/69   train_loss = 8.027\n",
      "Epoch   6 Batch   51/69   train_loss = 8.049\n",
      "Epoch   6 Batch   56/69   train_loss = 8.024\n",
      "Epoch   6 Batch   61/69   train_loss = 8.016\n",
      "Epoch   6 Batch   66/69   train_loss = 8.036\n",
      "Epoch   7 Batch    2/69   train_loss = 7.982\n",
      "Epoch   7 Batch    7/69   train_loss = 7.983\n",
      "Epoch   7 Batch   12/69   train_loss = 8.011\n",
      "Epoch   7 Batch   17/69   train_loss = 8.023\n",
      "Epoch   7 Batch   22/69   train_loss = 8.035\n",
      "Epoch   7 Batch   27/69   train_loss = 8.035\n",
      "Epoch   7 Batch   32/69   train_loss = 8.024\n",
      "Epoch   7 Batch   37/69   train_loss = 8.011\n",
      "Epoch   7 Batch   42/69   train_loss = 8.038\n",
      "Epoch   7 Batch   47/69   train_loss = 8.044\n",
      "Epoch   7 Batch   52/69   train_loss = 8.039\n",
      "Epoch   7 Batch   57/69   train_loss = 8.023\n",
      "Epoch   7 Batch   62/69   train_loss = 8.007\n",
      "Epoch   7 Batch   67/69   train_loss = 8.015\n",
      "Epoch   8 Batch    3/69   train_loss = 7.958\n",
      "Epoch   8 Batch    8/69   train_loss = 7.970\n",
      "Epoch   8 Batch   13/69   train_loss = 8.002\n",
      "Epoch   8 Batch   18/69   train_loss = 8.013\n",
      "Epoch   8 Batch   23/69   train_loss = 8.002\n",
      "Epoch   8 Batch   28/69   train_loss = 8.011\n",
      "Epoch   8 Batch   33/69   train_loss = 8.007\n",
      "Epoch   8 Batch   38/69   train_loss = 8.001\n",
      "Epoch   8 Batch   43/69   train_loss = 8.013\n",
      "Epoch   8 Batch   48/69   train_loss = 8.018\n",
      "Epoch   8 Batch   53/69   train_loss = 8.018\n",
      "Epoch   8 Batch   58/69   train_loss = 7.998\n",
      "Epoch   8 Batch   63/69   train_loss = 8.011\n",
      "Epoch   8 Batch   68/69   train_loss = 7.994\n",
      "Epoch   9 Batch    4/69   train_loss = 7.956\n",
      "Epoch   9 Batch    9/69   train_loss = 7.976\n",
      "Epoch   9 Batch   14/69   train_loss = 7.978\n",
      "Epoch   9 Batch   19/69   train_loss = 7.980\n",
      "Epoch   9 Batch   24/69   train_loss = 7.986\n",
      "Epoch   9 Batch   29/69   train_loss = 7.971\n",
      "Epoch   9 Batch   34/69   train_loss = 7.974\n",
      "Epoch   9 Batch   39/69   train_loss = 7.971\n",
      "Epoch   9 Batch   44/69   train_loss = 8.004\n",
      "Epoch   9 Batch   49/69   train_loss = 7.990\n",
      "Epoch   9 Batch   54/69   train_loss = 7.978\n",
      "Epoch   9 Batch   59/69   train_loss = 7.991\n",
      "Epoch   9 Batch   64/69   train_loss = 7.984\n",
      "Epoch  10 Batch    0/69   train_loss = 7.954\n",
      "Epoch  10 Batch    5/69   train_loss = 7.953\n",
      "Epoch  10 Batch   10/69   train_loss = 7.961\n",
      "Epoch  10 Batch   15/69   train_loss = 7.960\n",
      "Epoch  10 Batch   20/69   train_loss = 7.976\n",
      "Epoch  10 Batch   25/69   train_loss = 7.945\n",
      "Epoch  10 Batch   30/69   train_loss = 7.980\n",
      "Epoch  10 Batch   35/69   train_loss = 7.969\n",
      "Epoch  10 Batch   40/69   train_loss = 7.966\n",
      "Epoch  10 Batch   45/69   train_loss = 7.964\n",
      "Epoch  10 Batch   50/69   train_loss = 7.989\n",
      "Epoch  10 Batch   55/69   train_loss = 7.972\n",
      "Epoch  10 Batch   60/69   train_loss = 7.979\n",
      "Epoch  10 Batch   65/69   train_loss = 7.975\n",
      "Epoch  11 Batch    1/69   train_loss = 7.921\n",
      "Epoch  11 Batch    6/69   train_loss = 7.925\n",
      "Epoch  11 Batch   11/69   train_loss = 7.951\n",
      "Epoch  11 Batch   16/69   train_loss = 7.946\n",
      "Epoch  11 Batch   21/69   train_loss = 7.969\n",
      "Epoch  11 Batch   26/69   train_loss = 7.973\n",
      "Epoch  11 Batch   31/69   train_loss = 7.965\n",
      "Epoch  11 Batch   36/69   train_loss = 7.949\n",
      "Epoch  11 Batch   41/69   train_loss = 7.959\n",
      "Epoch  11 Batch   46/69   train_loss = 7.951\n",
      "Epoch  11 Batch   51/69   train_loss = 7.964\n",
      "Epoch  11 Batch   56/69   train_loss = 7.951\n",
      "Epoch  11 Batch   61/69   train_loss = 7.945\n",
      "Epoch  11 Batch   66/69   train_loss = 7.958\n",
      "Epoch  12 Batch    2/69   train_loss = 7.906\n",
      "Epoch  12 Batch    7/69   train_loss = 7.926\n",
      "Epoch  12 Batch   12/69   train_loss = 7.953\n",
      "Epoch  12 Batch   17/69   train_loss = 7.944\n",
      "Epoch  12 Batch   22/69   train_loss = 7.957\n",
      "Epoch  12 Batch   27/69   train_loss = 7.952\n",
      "Epoch  12 Batch   32/69   train_loss = 7.953\n",
      "Epoch  12 Batch   37/69   train_loss = 7.945\n",
      "Epoch  12 Batch   42/69   train_loss = 7.965\n",
      "Epoch  12 Batch   47/69   train_loss = 7.971\n",
      "Epoch  12 Batch   52/69   train_loss = 7.977\n",
      "Epoch  12 Batch   57/69   train_loss = 7.953\n",
      "Epoch  12 Batch   62/69   train_loss = 7.952\n",
      "Epoch  12 Batch   67/69   train_loss = 7.954\n",
      "Epoch  13 Batch    3/69   train_loss = 7.904\n",
      "Epoch  13 Batch    8/69   train_loss = 7.927\n",
      "Epoch  13 Batch   13/69   train_loss = 7.943\n",
      "Epoch  13 Batch   18/69   train_loss = 7.958\n",
      "Epoch  13 Batch   23/69   train_loss = 7.944\n",
      "Epoch  13 Batch   28/69   train_loss = 7.947\n",
      "Epoch  13 Batch   33/69   train_loss = 7.954\n",
      "Epoch  13 Batch   38/69   train_loss = 7.941\n",
      "Epoch  13 Batch   43/69   train_loss = 7.951\n",
      "Epoch  13 Batch   48/69   train_loss = 7.960\n",
      "Epoch  13 Batch   53/69   train_loss = 7.957\n",
      "Epoch  13 Batch   58/69   train_loss = 7.952\n",
      "Epoch  13 Batch   63/69   train_loss = 7.956\n",
      "Epoch  13 Batch   68/69   train_loss = 7.944\n",
      "Epoch  14 Batch    4/69   train_loss = 7.912\n",
      "Epoch  14 Batch    9/69   train_loss = 7.939\n",
      "Epoch  14 Batch   14/69   train_loss = 7.941\n",
      "Epoch  14 Batch   19/69   train_loss = 7.933\n",
      "Epoch  14 Batch   24/69   train_loss = 7.944\n",
      "Epoch  14 Batch   29/69   train_loss = 7.930\n",
      "Epoch  14 Batch   34/69   train_loss = 7.922\n",
      "Epoch  14 Batch   39/69   train_loss = 7.936\n",
      "Epoch  14 Batch   44/69   train_loss = 7.953\n",
      "Epoch  14 Batch   49/69   train_loss = 7.951\n",
      "Epoch  14 Batch   54/69   train_loss = 7.938\n",
      "Epoch  14 Batch   59/69   train_loss = 7.946\n",
      "Epoch  14 Batch   64/69   train_loss = 7.937\n",
      "Epoch  15 Batch    0/69   train_loss = 7.913\n",
      "Epoch  15 Batch    5/69   train_loss = 7.916\n",
      "Epoch  15 Batch   10/69   train_loss = 7.931\n",
      "Epoch  15 Batch   15/69   train_loss = 7.926\n",
      "Epoch  15 Batch   20/69   train_loss = 7.940\n",
      "Epoch  15 Batch   25/69   train_loss = 7.919\n",
      "Epoch  15 Batch   30/69   train_loss = 7.946\n",
      "Epoch  15 Batch   35/69   train_loss = 7.938\n",
      "Epoch  15 Batch   40/69   train_loss = 7.939\n",
      "Epoch  15 Batch   45/69   train_loss = 7.936\n",
      "Epoch  15 Batch   50/69   train_loss = 7.957\n",
      "Epoch  15 Batch   55/69   train_loss = 7.940\n",
      "Epoch  15 Batch   60/69   train_loss = 7.953\n",
      "Epoch  15 Batch   65/69   train_loss = 7.941\n",
      "Epoch  16 Batch    1/69   train_loss = 7.898\n",
      "Epoch  16 Batch    6/69   train_loss = 7.907\n",
      "Epoch  16 Batch   11/69   train_loss = 7.930\n",
      "Epoch  16 Batch   16/69   train_loss = 7.919\n",
      "Epoch  16 Batch   21/69   train_loss = 7.942\n",
      "Epoch  16 Batch   26/69   train_loss = 7.951\n",
      "Epoch  16 Batch   31/69   train_loss = 7.940\n",
      "Epoch  16 Batch   36/69   train_loss = 7.924\n",
      "Epoch  16 Batch   41/69   train_loss = 7.936\n",
      "Epoch  16 Batch   46/69   train_loss = 7.927\n",
      "Epoch  16 Batch   51/69   train_loss = 7.946\n",
      "Epoch  16 Batch   56/69   train_loss = 7.926\n",
      "Epoch  16 Batch   61/69   train_loss = 7.930\n",
      "Epoch  16 Batch   66/69   train_loss = 7.937\n",
      "Epoch  17 Batch    2/69   train_loss = 7.888\n",
      "Epoch  17 Batch    7/69   train_loss = 7.905\n",
      "Epoch  17 Batch   12/69   train_loss = 7.933\n",
      "Epoch  17 Batch   17/69   train_loss = 7.928\n",
      "Epoch  17 Batch   22/69   train_loss = 7.940\n",
      "Epoch  17 Batch   27/69   train_loss = 7.936\n",
      "Epoch  17 Batch   32/69   train_loss = 7.927\n",
      "Epoch  17 Batch   37/69   train_loss = 7.928\n",
      "Epoch  17 Batch   42/69   train_loss = 7.947\n",
      "Epoch  17 Batch   47/69   train_loss = 7.949\n",
      "Epoch  17 Batch   52/69   train_loss = 7.954\n",
      "Epoch  17 Batch   57/69   train_loss = 7.936\n",
      "Epoch  17 Batch   62/69   train_loss = 7.937\n",
      "Epoch  17 Batch   67/69   train_loss = 7.937\n",
      "Epoch  18 Batch    3/69   train_loss = 7.887\n",
      "Epoch  18 Batch    8/69   train_loss = 7.915\n",
      "Epoch  18 Batch   13/69   train_loss = 7.927\n",
      "Epoch  18 Batch   18/69   train_loss = 7.945\n",
      "Epoch  18 Batch   23/69   train_loss = 7.927\n",
      "Epoch  18 Batch   28/69   train_loss = 7.927\n",
      "Epoch  18 Batch   33/69   train_loss = 7.941\n",
      "Epoch  18 Batch   38/69   train_loss = 7.924\n",
      "Epoch  18 Batch   43/69   train_loss = 7.937\n",
      "Epoch  18 Batch   48/69   train_loss = 7.943\n",
      "Epoch  18 Batch   53/69   train_loss = 7.944\n",
      "Epoch  18 Batch   58/69   train_loss = 7.940\n",
      "Epoch  18 Batch   63/69   train_loss = 7.941\n",
      "Epoch  18 Batch   68/69   train_loss = 7.925\n",
      "Epoch  19 Batch    4/69   train_loss = 7.897\n",
      "Epoch  19 Batch    9/69   train_loss = 7.926\n",
      "Epoch  19 Batch   14/69   train_loss = 7.927\n",
      "Epoch  19 Batch   19/69   train_loss = 7.920\n",
      "Epoch  19 Batch   24/69   train_loss = 7.931\n",
      "Epoch  19 Batch   29/69   train_loss = 7.919\n",
      "Epoch  19 Batch   34/69   train_loss = 7.913\n",
      "Epoch  19 Batch   39/69   train_loss = 7.924\n",
      "Epoch  19 Batch   44/69   train_loss = 7.939\n",
      "Epoch  19 Batch   49/69   train_loss = 7.939\n",
      "Epoch  19 Batch   54/69   train_loss = 7.923\n",
      "Epoch  19 Batch   59/69   train_loss = 7.933\n",
      "Epoch  19 Batch   64/69   train_loss = 7.927\n",
      "Model Trained and Saved\n"
     ]
    }
   ],
   "source": [
    "\"\"\"\n",
    "DON'T MODIFY ANYTHING IN THIS CELL\n",
    "\"\"\"\n",
    "batches = get_batches(int_text, batch_size, seq_length)\n",
    "\n",
    "with tf.Session(graph=train_graph) as sess:\n",
    "    sess.run(tf.global_variables_initializer())\n",
    "\n",
    "    for epoch_i in range(num_epochs):\n",
    "        state = sess.run(initial_state, {input_text: batches[0][0]})\n",
    "\n",
    "        for batch_i, (x, y) in enumerate(batches):\n",
    "            feed = {\n",
    "                input_text: x,\n",
    "                targets: y,\n",
    "                initial_state: state,\n",
    "                lr: learning_rate}\n",
    "            train_loss, state, _ = sess.run([cost, final_state, train_op], feed)\n",
    "\n",
    "            # Show every <show_every_n_batches> batches\n",
    "            if (epoch_i * len(batches) + batch_i) % show_every_n_batches == 0:\n",
    "                print('Epoch {:>3} Batch {:>4}/{}   train_loss = {:.3f}'.format(\n",
    "                    epoch_i,\n",
    "                    batch_i,\n",
    "                    len(batches),\n",
    "                    train_loss))\n",
    "\n",
    "    # Save Model\n",
    "    saver = tf.train.Saver()\n",
    "    saver.save(sess, save_dir)\n",
    "    print('Model Trained and Saved')"
   ]
  },
  {
   "cell_type": "markdown",
   "metadata": {
    "deletable": true,
    "editable": true
   },
   "source": [
    "## Save Parameters\n",
    "Save `seq_length` and `save_dir` for generating a new TV script."
   ]
  },
  {
   "cell_type": "code",
   "execution_count": 91,
   "metadata": {
    "collapsed": false,
    "deletable": true,
    "editable": true
   },
   "outputs": [],
   "source": [
    "\"\"\"\n",
    "DON'T MODIFY ANYTHING IN THIS CELL\n",
    "\"\"\"\n",
    "# Save parameters for checkpoint\n",
    "helper.save_params((seq_length, save_dir))"
   ]
  },
  {
   "cell_type": "markdown",
   "metadata": {
    "deletable": true,
    "editable": true
   },
   "source": [
    "# Checkpoint"
   ]
  },
  {
   "cell_type": "code",
   "execution_count": 92,
   "metadata": {
    "collapsed": false,
    "deletable": true,
    "editable": true
   },
   "outputs": [],
   "source": [
    "\"\"\"\n",
    "DON'T MODIFY ANYTHING IN THIS CELL\n",
    "\"\"\"\n",
    "import tensorflow as tf\n",
    "import numpy as np\n",
    "import helper\n",
    "import problem_unittests as tests\n",
    "\n",
    "_, vocab_to_int, int_to_vocab, token_dict = helper.load_preprocess()\n",
    "seq_length, load_dir = helper.load_params()"
   ]
  },
  {
   "cell_type": "markdown",
   "metadata": {
    "deletable": true,
    "editable": true
   },
   "source": [
    "## Implement Generate Functions\n",
    "### Get Tensors\n",
    "Get tensors from `loaded_graph` using the function [`get_tensor_by_name()`](https://www.tensorflow.org/api_docs/python/tf/Graph#get_tensor_by_name).  Get the tensors using the following names:\n",
    "- \"input:0\"\n",
    "- \"initial_state:0\"\n",
    "- \"final_state:0\"\n",
    "- \"probs:0\"\n",
    "\n",
    "Return the tensors in the following tuple `(InputTensor, InitialStateTensor, FinalStateTensor, ProbsTensor)` "
   ]
  },
  {
   "cell_type": "code",
   "execution_count": 93,
   "metadata": {
    "collapsed": false,
    "deletable": true,
    "editable": true
   },
   "outputs": [
    {
     "name": "stdout",
     "output_type": "stream",
     "text": [
      "Tests Passed\n"
     ]
    }
   ],
   "source": [
    "def get_tensors(loaded_graph):\n",
    "    \"\"\"\n",
    "    Get input, initial state, final state, and probabilities tensor from <loaded_graph>\n",
    "    :param loaded_graph: TensorFlow graph loaded from file\n",
    "    :return: Tuple (InputTensor, InitialStateTensor, FinalStateTensor, ProbsTensor)\n",
    "    \"\"\"\n",
    "    # TODO: Implement Function\n",
    "    InputTensor = loaded_graph.get_tensor_by_name('input:0')\n",
    "    InitialStateTensor = loaded_graph.get_tensor_by_name('initial_state:0')\n",
    "    FinalStateTensor = loaded_graph.get_tensor_by_name('final_state:0')\n",
    "    ProbsTensor = loaded_graph.get_tensor_by_name('probs:0')\n",
    "    return (InputTensor, InitialStateTensor, FinalStateTensor, ProbsTensor)\n",
    "\n",
    "\"\"\"\n",
    "DON'T MODIFY ANYTHING IN THIS CELL THAT IS BELOW THIS LINE\n",
    "\"\"\"\n",
    "tests.test_get_tensors(get_tensors)"
   ]
  },
  {
   "cell_type": "markdown",
   "metadata": {
    "deletable": true,
    "editable": true
   },
   "source": [
    "### Choose Word\n",
    "Implement the `pick_word()` function to select the next word using `probabilities`."
   ]
  },
  {
   "cell_type": "code",
   "execution_count": 94,
   "metadata": {
    "collapsed": false,
    "deletable": true,
    "editable": true
   },
   "outputs": [
    {
     "name": "stdout",
     "output_type": "stream",
     "text": [
      "Tests Passed\n"
     ]
    }
   ],
   "source": [
    "def pick_word(probabilities, int_to_vocab):\n",
    "    \"\"\"\n",
    "    Pick the next word in the generated text\n",
    "    :param probabilities: Probabilites of the next word\n",
    "    :param int_to_vocab: Dictionary of word ids as the keys and words as the values\n",
    "    :return: String of the predicted word\n",
    "    \"\"\"\n",
    "    # TODO: Implement Function\n",
    "    return int_to_vocab[np.argmax(probabilities)]\n",
    "\n",
    "\"\"\"\n",
    "DON'T MODIFY ANYTHING IN THIS CELL THAT IS BELOW THIS LINE\n",
    "\"\"\"\n",
    "tests.test_pick_word(pick_word)"
   ]
  },
  {
   "cell_type": "markdown",
   "metadata": {
    "deletable": true,
    "editable": true
   },
   "source": [
    "## Generate TV Script\n",
    "This will generate the TV script for you.  Set `gen_length` to the length of TV script you want to generate."
   ]
  },
  {
   "cell_type": "code",
   "execution_count": 95,
   "metadata": {
    "collapsed": false,
    "deletable": true,
    "editable": true
   },
   "outputs": [
    {
     "name": "stdout",
     "output_type": "stream",
     "text": [
      "moe_szyslak: you, an.. and an alcoholic!!!! we an\"!!!!! we an\"!!!!! we an\"!!!!! we an\"!!!!! we an\"!!!!! we an\"!!!!! we an\"!!!!! we an\"!!!!! we an\"!!!!! we an\"!!!!! we an\"!!!!! we an\"!!!!! we an\"!!!!! we an\"!!!!! we an\"!!!!! we an\"!!!!! we an\"!!!!! we an\"!!!!! we an\"!!!!! we an\"!!!!! we an\"!!!!! we an\"!!!!! we an\"!!!!! we an\"!\n"
     ]
    }
   ],
   "source": [
    "gen_length = 200\n",
    "# homer_simpson, moe_szyslak, or Barney_Gumble\n",
    "prime_word = 'moe_szyslak'\n",
    "\n",
    "\"\"\"\n",
    "DON'T MODIFY ANYTHING IN THIS CELL THAT IS BELOW THIS LINE\n",
    "\"\"\"\n",
    "loaded_graph = tf.Graph()\n",
    "with tf.Session(graph=loaded_graph) as sess:\n",
    "    # Load saved model\n",
    "    loader = tf.train.import_meta_graph(load_dir + '.meta')\n",
    "    loader.restore(sess, load_dir)\n",
    "\n",
    "    # Get Tensors from loaded model\n",
    "    input_text, initial_state, final_state, probs = get_tensors(loaded_graph)\n",
    "\n",
    "    # Sentences generation setup\n",
    "    gen_sentences = [prime_word + ':']\n",
    "    prev_state = sess.run(initial_state, {input_text: np.array([[1]])})\n",
    "\n",
    "    # Generate sentences\n",
    "    for n in range(gen_length):\n",
    "        # Dynamic Input\n",
    "        dyn_input = [[vocab_to_int[word] for word in gen_sentences[-seq_length:]]]\n",
    "        dyn_seq_length = len(dyn_input[0])\n",
    "\n",
    "        # Get Prediction\n",
    "        probabilities, prev_state = sess.run(\n",
    "            [probs, final_state],\n",
    "            {input_text: dyn_input, initial_state: prev_state})\n",
    "        \n",
    "        pred_word = pick_word(probabilities[dyn_seq_length-1], int_to_vocab)\n",
    "\n",
    "        gen_sentences.append(pred_word)\n",
    "    \n",
    "    # Remove tokens\n",
    "    tv_script = ' '.join(gen_sentences)\n",
    "    for key, token in token_dict.items():\n",
    "        ending = ' ' if key in ['\\n', '(', '\"'] else ''\n",
    "        tv_script = tv_script.replace(' ' + token.lower(), key)\n",
    "    tv_script = tv_script.replace('\\n ', '\\n')\n",
    "    tv_script = tv_script.replace('( ', '(')\n",
    "        \n",
    "    print(tv_script)"
   ]
  },
  {
   "cell_type": "markdown",
   "metadata": {
    "deletable": true,
    "editable": true
   },
   "source": [
    "# The TV Script is Nonsensical\n",
    "It's ok if the TV script doesn't make any sense.  We trained on less than a megabyte of text.  In order to get good results, you'll have to use a smaller vocabulary or get more data.  Luckly there's more data!  As we mentioned in the begging of this project, this is a subset of [another dataset](https://www.kaggle.com/wcukierski/the-simpsons-by-the-data).  We didn't have you train on all the data, because that would take too long.  However, you are free to train your neural network on all the data.  After you complete the project, of course.\n",
    "# Submitting This Project\n",
    "When submitting this project, make sure to run all the cells before saving the notebook. Save the notebook file as \"dlnd_tv_script_generation.ipynb\" and save it as a HTML file under \"File\" -> \"Download as\". Include the \"helper.py\" and \"problem_unittests.py\" files in your submission."
   ]
  },
  {
   "cell_type": "code",
   "execution_count": null,
   "metadata": {
    "collapsed": true
   },
   "outputs": [],
   "source": []
  }
 ],
 "metadata": {
  "kernelspec": {
   "display_name": "Python 3",
   "language": "python",
   "name": "python3"
  },
  "language_info": {
   "codemirror_mode": {
    "name": "ipython",
    "version": 3
   },
   "file_extension": ".py",
   "mimetype": "text/x-python",
   "name": "python",
   "nbconvert_exporter": "python",
   "pygments_lexer": "ipython3",
   "version": "3.6.0"
  }
 },
 "nbformat": 4,
 "nbformat_minor": 0
}
